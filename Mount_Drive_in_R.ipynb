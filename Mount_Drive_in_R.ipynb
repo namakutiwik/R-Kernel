{
  "nbformat": 4,
  "nbformat_minor": 0,
  "metadata": {
    "colab": {
      "name": "Mount Drive in R",
      "provenance": [],
      "collapsed_sections": [],
      "toc_visible": true,
      "authorship_tag": "ABX9TyNxaB19xdXulDQbkXGGEKXz",
      "include_colab_link": true
    },
    "kernelspec": {
      "name": "ir",
      "display_name": "R"
    },
    "language_info": {
      "name": "R"
    }
  },
  "cells": [
    {
      "cell_type": "markdown",
      "metadata": {
        "id": "view-in-github",
        "colab_type": "text"
      },
      "source": [
        "<a href=\"https://colab.research.google.com/github/namakutiwik/R-Kernel/blob/main/Mount_Drive_in_R.ipynb\" target=\"_parent\"><img src=\"https://colab.research.google.com/assets/colab-badge.svg\" alt=\"Open In Colab\"/></a>"
      ]
    },
    {
      "cell_type": "markdown",
      "metadata": {
        "id": "SYxI-PIiaNCD"
      },
      "source": [
        "# Import Dataset using Mount Drive"
      ]
    },
    {
      "cell_type": "code",
      "metadata": {
        "colab": {
          "base_uri": "https://localhost:8080/"
        },
        "id": "_-lc5pteaJtS",
        "outputId": "fefd680f-9f77-4116-dfc6-c6b41fdc9633"
      },
      "source": [
        "install.packages(\"googledrive\")\n",
        "library(\"googledrive\") \n",
        "install.packages(\"httpuv\") \n",
        "library(\"httpuv\")"
      ],
      "execution_count": null,
      "outputs": [
        {
          "output_type": "stream",
          "text": [
            "Installing package into ‘/usr/local/lib/R/site-library’\n",
            "(as ‘lib’ is unspecified)\n",
            "\n",
            "Installing package into ‘/usr/local/lib/R/site-library’\n",
            "(as ‘lib’ is unspecified)\n",
            "\n"
          ],
          "name": "stderr"
        }
      ]
    },
    {
      "cell_type": "code",
      "metadata": {
        "colab": {
          "base_uri": "https://localhost:8080/"
        },
        "id": "PfwKj2r7aSsi",
        "outputId": "cc783745-c085-42c4-e230-39c8d9748acb"
      },
      "source": [
        "if (file.exists(\"/usr/local/lib/python3.7/dist-packages/google/colab/_ipython.py\")) { #may update python version  \n",
        "                                       #occasionally\n",
        "  install.packages(\"R.utils\")\n",
        "  library(\"R.utils\")\n",
        "  library(\"httr\")\n",
        "  my_check <- function() {return(TRUE)}\n",
        "  reassignInPackage(\"is_interactive\", pkgName = \"httr\", my_check) \n",
        "  options(rlang_interactive=TRUE)\n",
        "}"
      ],
      "execution_count": null,
      "outputs": [
        {
          "output_type": "stream",
          "text": [
            "Installing package into ‘/usr/local/lib/R/site-library’\n",
            "(as ‘lib’ is unspecified)\n",
            "\n",
            "Loading required package: R.oo\n",
            "\n",
            "Loading required package: R.methodsS3\n",
            "\n",
            "R.methodsS3 v1.8.1 (2020-08-26 16:20:06 UTC) successfully loaded. See ?R.methodsS3 for help.\n",
            "\n",
            "R.oo v1.24.0 (2020-08-26 16:11:58 UTC) successfully loaded. See ?R.oo for help.\n",
            "\n",
            "\n",
            "Attaching package: ‘R.oo’\n",
            "\n",
            "\n",
            "The following object is masked from ‘package:R.methodsS3’:\n",
            "\n",
            "    throw\n",
            "\n",
            "\n",
            "The following objects are masked from ‘package:methods’:\n",
            "\n",
            "    getClasses, getMethods\n",
            "\n",
            "\n",
            "The following objects are masked from ‘package:base’:\n",
            "\n",
            "    attach, detach, load, save\n",
            "\n",
            "\n",
            "R.utils v2.10.1 (2020-08-26 22:50:31 UTC) successfully loaded. See ?R.utils for help.\n",
            "\n",
            "\n",
            "Attaching package: ‘R.utils’\n",
            "\n",
            "\n",
            "The following object is masked from ‘package:utils’:\n",
            "\n",
            "    timestamp\n",
            "\n",
            "\n",
            "The following objects are masked from ‘package:base’:\n",
            "\n",
            "    cat, commandArgs, getOption, inherits, isOpen, nullfile, parse,\n",
            "    warnings\n",
            "\n",
            "\n"
          ],
          "name": "stderr"
        }
      ]
    },
    {
      "cell_type": "code",
      "metadata": {
        "colab": {
          "base_uri": "https://localhost:8080/"
        },
        "id": "llMRBbAkaYSf",
        "outputId": "93953c2a-741d-462e-fc4a-4d5a0e242c3a"
      },
      "source": [
        "drive_auth(use_oob = TRUE, cache = FALSE)"
      ],
      "execution_count": null,
      "outputs": [
        {
          "output_type": "stream",
          "text": [
            "Please point your browser to the following url: \n",
            "\n",
            "https://accounts.google.com/o/oauth2/auth?client_id=603366585132-dpeg5tt0et3go5of2374d83ifevk5086.apps.googleusercontent.com&scope=https%3A%2F%2Fwww.googleapis.com%2Fauth%2Fdrive%20https%3A%2F%2Fwww.googleapis.com%2Fauth%2Fuserinfo.email&redirect_uri=urn%3Aietf%3Awg%3Aoauth%3A2.0%3Aoob&response_type=code\n",
            "\n"
          ],
          "name": "stderr"
        },
        {
          "output_type": "stream",
          "text": [
            "Enter authorization code: 4/1AX4XfWiK6f364r49pN8bcHTgqozHeotacn4vUi1qQPWGHOsykSBDBVgKJaU\n"
          ],
          "name": "stdout"
        }
      ]
    },
    {
      "cell_type": "code",
      "metadata": {
        "colab": {
          "base_uri": "https://localhost:8080/",
          "height": 189
        },
        "id": "j4ti2J2xnxOW",
        "outputId": "04e83476-2212-4608-c7d8-44640189fc6c"
      },
      "source": [
        "x <- drive_get(\"~/Kemenkes - Data Analyst/station_trip_data.csv\")\n",
        "drive_download(x)\n",
        "z <- read.csv(\"/content/station_trip_data.csv\", header = TRUE, sep = \";\")\n",
        "head(z, 3)"
      ],
      "execution_count": null,
      "outputs": [
        {
          "output_type": "display_data",
          "data": {
            "text/plain": [
              "  time                station_id name               capacity assign\n",
              "1 09/03/2015 19:10:00 465        Broadway & W 41 St 39       1     \n",
              "2 10/03/2015 12:27:00 466        W 25 St & 6 Ave    35       1     \n",
              "3 21/01/2015 14:31:00 477        W 41 St & 8 Ave    71       1     "
            ],
            "text/latex": "A data.frame: 3 × 5\n\\begin{tabular}{r|lllll}\n  & time & station\\_id & name & capacity & assign\\\\\n  & <chr> & <int> & <chr> & <int> & <int>\\\\\n\\hline\n\t1 & 09/03/2015 19:10:00 & 465 & Broadway \\& W 41 St & 39 & 1\\\\\n\t2 & 10/03/2015 12:27:00 & 466 & W 25 St \\& 6 Ave    & 35 & 1\\\\\n\t3 & 21/01/2015 14:31:00 & 477 & W 41 St \\& 8 Ave    & 71 & 1\\\\\n\\end{tabular}\n",
            "text/markdown": "\nA data.frame: 3 × 5\n\n| <!--/--> | time &lt;chr&gt; | station_id &lt;int&gt; | name &lt;chr&gt; | capacity &lt;int&gt; | assign &lt;int&gt; |\n|---|---|---|---|---|---|\n| 1 | 09/03/2015 19:10:00 | 465 | Broadway &amp; W 41 St | 39 | 1 |\n| 2 | 10/03/2015 12:27:00 | 466 | W 25 St &amp; 6 Ave    | 35 | 1 |\n| 3 | 21/01/2015 14:31:00 | 477 | W 41 St &amp; 8 Ave    | 71 | 1 |\n\n",
            "text/html": [
              "<table class=\"dataframe\">\n",
              "<caption>A data.frame: 3 × 5</caption>\n",
              "<thead>\n",
              "\t<tr><th></th><th scope=col>time</th><th scope=col>station_id</th><th scope=col>name</th><th scope=col>capacity</th><th scope=col>assign</th></tr>\n",
              "\t<tr><th></th><th scope=col>&lt;chr&gt;</th><th scope=col>&lt;int&gt;</th><th scope=col>&lt;chr&gt;</th><th scope=col>&lt;int&gt;</th><th scope=col>&lt;int&gt;</th></tr>\n",
              "</thead>\n",
              "<tbody>\n",
              "\t<tr><th scope=row>1</th><td>09/03/2015 19:10:00</td><td>465</td><td>Broadway &amp; W 41 St</td><td>39</td><td>1</td></tr>\n",
              "\t<tr><th scope=row>2</th><td>10/03/2015 12:27:00</td><td>466</td><td><span style=white-space:pre-wrap>W 25 St &amp; 6 Ave   </span></td><td>35</td><td>1</td></tr>\n",
              "\t<tr><th scope=row>3</th><td>21/01/2015 14:31:00</td><td>477</td><td><span style=white-space:pre-wrap>W 41 St &amp; 8 Ave   </span></td><td>71</td><td>1</td></tr>\n",
              "</tbody>\n",
              "</table>\n"
            ]
          },
          "metadata": {
            "tags": []
          }
        }
      ]
    }
  ]
}